{
 "cells": [
  {
   "cell_type": "code",
   "execution_count": 1,
   "metadata": {},
   "outputs": [],
   "source": [
    "#Import pacakges\n",
    "import requests\n",
    "from bs4 import BeautifulSoup\n",
    "import csv\n",
    "import pandas as pd\n",
    "import matplotlib.pyplot as plt"
   ]
  },
  {
   "cell_type": "markdown",
   "metadata": {},
   "source": [
    "# Parse Webpage Data into CSV\n",
    "***"
   ]
  },
  {
   "cell_type": "code",
   "execution_count": 2,
   "metadata": {},
   "outputs": [],
   "source": [
    "#Parse webpage data into a csv\n",
    "r = requests.get(\"http://flavorsofcacao.com/database_w_REF.html\")\n",
    "soup = BeautifulSoup(r.content, \"html.parser\")\n",
    "\n",
    "with open('dark_chocolate_bar_ratings.csv', 'w', newline='', encoding='utf-8') as f_output:\n",
    "    csv_output = csv.writer(f_output)\n",
    "    csv_output.writerow([th.get_text(strip=True) for th in soup.table.tr.find_all('th')])\n",
    "\n",
    "    for tr in soup.table.find_all(\"tr\")[1:]:\n",
    "        csv_output.writerow([td.get_text(strip=True) for td in tr.find_all('td')])"
   ]
  },
  {
   "cell_type": "markdown",
   "metadata": {},
   "source": [
    "# Initial Observations of Data\n",
    "***"
   ]
  },
  {
   "cell_type": "code",
   "execution_count": 3,
   "metadata": {},
   "outputs": [
    {
     "data": {
      "text/html": [
       "<div>\n",
       "<style scoped>\n",
       "    .dataframe tbody tr th:only-of-type {\n",
       "        vertical-align: middle;\n",
       "    }\n",
       "\n",
       "    .dataframe tbody tr th {\n",
       "        vertical-align: top;\n",
       "    }\n",
       "\n",
       "    .dataframe thead th {\n",
       "        text-align: right;\n",
       "    }\n",
       "</style>\n",
       "<table border=\"1\" class=\"dataframe\">\n",
       "  <thead>\n",
       "    <tr style=\"text-align: right;\">\n",
       "      <th></th>\n",
       "      <th>REF</th>\n",
       "      <th>Company (Manufacturer)</th>\n",
       "      <th>Company Location</th>\n",
       "      <th>Review Date</th>\n",
       "      <th>Country of Bean Origin</th>\n",
       "      <th>Specific Bean Origin or Bar Name</th>\n",
       "      <th>Cocoa Percent</th>\n",
       "      <th>Ingredients</th>\n",
       "      <th>Most Memorable Characteristics</th>\n",
       "      <th>Rating</th>\n",
       "    </tr>\n",
       "  </thead>\n",
       "  <tbody>\n",
       "    <tr>\n",
       "      <th>0</th>\n",
       "      <td>2454</td>\n",
       "      <td>5150</td>\n",
       "      <td>U.S.A.</td>\n",
       "      <td>2019</td>\n",
       "      <td>Madagascar</td>\n",
       "      <td>Bejofo Estate, batch 1</td>\n",
       "      <td>76%</td>\n",
       "      <td>3- B,S,C</td>\n",
       "      <td>cocoa, blackberry, full body</td>\n",
       "      <td>3.75</td>\n",
       "    </tr>\n",
       "    <tr>\n",
       "      <th>1</th>\n",
       "      <td>2458</td>\n",
       "      <td>5150</td>\n",
       "      <td>U.S.A.</td>\n",
       "      <td>2019</td>\n",
       "      <td>Dominican Republic</td>\n",
       "      <td>Zorzal, batch 1</td>\n",
       "      <td>76%</td>\n",
       "      <td>3- B,S,C</td>\n",
       "      <td>cocoa, vegetal, savory</td>\n",
       "      <td>3.50</td>\n",
       "    </tr>\n",
       "    <tr>\n",
       "      <th>2</th>\n",
       "      <td>2454</td>\n",
       "      <td>5150</td>\n",
       "      <td>U.S.A.</td>\n",
       "      <td>2019</td>\n",
       "      <td>Tanzania</td>\n",
       "      <td>Kokoa Kamili, batch 1</td>\n",
       "      <td>76%</td>\n",
       "      <td>3- B,S,C</td>\n",
       "      <td>rich cocoa, fatty, bready</td>\n",
       "      <td>3.25</td>\n",
       "    </tr>\n",
       "    <tr>\n",
       "      <th>3</th>\n",
       "      <td>797</td>\n",
       "      <td>A. Morin</td>\n",
       "      <td>France</td>\n",
       "      <td>2012</td>\n",
       "      <td>Peru</td>\n",
       "      <td>Peru</td>\n",
       "      <td>63%</td>\n",
       "      <td>4- B,S,C,L</td>\n",
       "      <td>fruity, melon, roasty</td>\n",
       "      <td>3.75</td>\n",
       "    </tr>\n",
       "    <tr>\n",
       "      <th>4</th>\n",
       "      <td>797</td>\n",
       "      <td>A. Morin</td>\n",
       "      <td>France</td>\n",
       "      <td>2012</td>\n",
       "      <td>Bolivia</td>\n",
       "      <td>Bolivia</td>\n",
       "      <td>70%</td>\n",
       "      <td>4- B,S,C,L</td>\n",
       "      <td>vegetal, nutty</td>\n",
       "      <td>3.50</td>\n",
       "    </tr>\n",
       "  </tbody>\n",
       "</table>\n",
       "</div>"
      ],
      "text/plain": [
       "    REF Company (Manufacturer) Company Location  Review Date  \\\n",
       "0  2454                   5150           U.S.A.         2019   \n",
       "1  2458                   5150           U.S.A.         2019   \n",
       "2  2454                   5150           U.S.A.         2019   \n",
       "3   797               A. Morin           France         2012   \n",
       "4   797               A. Morin           France         2012   \n",
       "\n",
       "  Country of Bean Origin Specific Bean Origin or Bar Name Cocoa Percent  \\\n",
       "0             Madagascar           Bejofo Estate, batch 1           76%   \n",
       "1     Dominican Republic                  Zorzal, batch 1           76%   \n",
       "2               Tanzania            Kokoa Kamili, batch 1           76%   \n",
       "3                   Peru                             Peru           63%   \n",
       "4                Bolivia                          Bolivia           70%   \n",
       "\n",
       "  Ingredients Most Memorable Characteristics  Rating  \n",
       "0    3- B,S,C   cocoa, blackberry, full body    3.75  \n",
       "1    3- B,S,C         cocoa, vegetal, savory    3.50  \n",
       "2    3- B,S,C      rich cocoa, fatty, bready    3.25  \n",
       "3  4- B,S,C,L          fruity, melon, roasty    3.75  \n",
       "4  4- B,S,C,L                 vegetal, nutty    3.50  "
      ]
     },
     "execution_count": 3,
     "metadata": {},
     "output_type": "execute_result"
    }
   ],
   "source": [
    "#Load data into data frame\n",
    "df = pd.read_csv('dark_chocolate_bar_ratings.csv')\n",
    "df.head()"
   ]
  },
  {
   "cell_type": "markdown",
   "metadata": {},
   "source": [
    "## Overall Dataset"
   ]
  },
  {
   "cell_type": "code",
   "execution_count": 4,
   "metadata": {},
   "outputs": [
    {
     "data": {
      "text/plain": [
       "Index(['REF', 'Company (Manufacturer)', 'Company Location', 'Review Date',\n",
       "       'Country of Bean Origin', 'Specific Bean Origin or Bar Name',\n",
       "       'Cocoa Percent', 'Ingredients', 'Most Memorable Characteristics',\n",
       "       'Rating'],\n",
       "      dtype='object')"
      ]
     },
     "execution_count": 4,
     "metadata": {},
     "output_type": "execute_result"
    }
   ],
   "source": [
    "#List of columns in dataset\n",
    "df.columns"
   ]
  },
  {
   "cell_type": "code",
   "execution_count": 5,
   "metadata": {},
   "outputs": [
    {
     "data": {
      "text/plain": [
       "(2362, 10)"
      ]
     },
     "execution_count": 5,
     "metadata": {},
     "output_type": "execute_result"
    }
   ],
   "source": [
    "#Determine amount of observations and columns\n",
    "df.shape"
   ]
  },
  {
   "cell_type": "markdown",
   "metadata": {},
   "source": [
    "There are 2362 observations and 10 columns."
   ]
  },
  {
   "cell_type": "code",
   "execution_count": 6,
   "metadata": {},
   "outputs": [
    {
     "name": "stdout",
     "output_type": "stream",
     "text": [
      "<class 'pandas.core.frame.DataFrame'>\n",
      "RangeIndex: 2362 entries, 0 to 2361\n",
      "Data columns (total 10 columns):\n",
      " #   Column                            Non-Null Count  Dtype  \n",
      "---  ------                            --------------  -----  \n",
      " 0   REF                               2362 non-null   int64  \n",
      " 1   Company (Manufacturer)            2362 non-null   object \n",
      " 2   Company Location                  2362 non-null   object \n",
      " 3   Review Date                       2362 non-null   int64  \n",
      " 4   Country of Bean Origin            2362 non-null   object \n",
      " 5   Specific Bean Origin or Bar Name  2362 non-null   object \n",
      " 6   Cocoa Percent                     2362 non-null   object \n",
      " 7   Ingredients                       2274 non-null   object \n",
      " 8   Most Memorable Characteristics    2362 non-null   object \n",
      " 9   Rating                            2362 non-null   float64\n",
      "dtypes: float64(1), int64(2), object(7)\n",
      "memory usage: 184.7+ KB\n"
     ]
    }
   ],
   "source": [
    "#Determine data types\n",
    "df.info()"
   ]
  },
  {
   "cell_type": "markdown",
   "metadata": {},
   "source": [
    "* Three types of datatypes are present in the dataset: integer, object, and float.\n",
    "* The only column with missing values is 'Ingredients'. The column is missing 88 values. "
   ]
  },
  {
   "cell_type": "code",
   "execution_count": 7,
   "metadata": {},
   "outputs": [
    {
     "data": {
      "text/html": [
       "<div>\n",
       "<style scoped>\n",
       "    .dataframe tbody tr th:only-of-type {\n",
       "        vertical-align: middle;\n",
       "    }\n",
       "\n",
       "    .dataframe tbody tr th {\n",
       "        vertical-align: top;\n",
       "    }\n",
       "\n",
       "    .dataframe thead th {\n",
       "        text-align: right;\n",
       "    }\n",
       "</style>\n",
       "<table border=\"1\" class=\"dataframe\">\n",
       "  <thead>\n",
       "    <tr style=\"text-align: right;\">\n",
       "      <th></th>\n",
       "      <th>REF</th>\n",
       "      <th>Review Date</th>\n",
       "      <th>Rating</th>\n",
       "    </tr>\n",
       "  </thead>\n",
       "  <tbody>\n",
       "    <tr>\n",
       "      <th>count</th>\n",
       "      <td>2362.000000</td>\n",
       "      <td>2362.000000</td>\n",
       "      <td>2362.000000</td>\n",
       "    </tr>\n",
       "    <tr>\n",
       "      <th>mean</th>\n",
       "      <td>1343.279848</td>\n",
       "      <td>2013.894581</td>\n",
       "      <td>3.187384</td>\n",
       "    </tr>\n",
       "    <tr>\n",
       "      <th>std</th>\n",
       "      <td>709.468334</td>\n",
       "      <td>3.667615</td>\n",
       "      <td>0.450292</td>\n",
       "    </tr>\n",
       "    <tr>\n",
       "      <th>min</th>\n",
       "      <td>5.000000</td>\n",
       "      <td>2006.000000</td>\n",
       "      <td>1.000000</td>\n",
       "    </tr>\n",
       "    <tr>\n",
       "      <th>25%</th>\n",
       "      <td>754.000000</td>\n",
       "      <td>2011.000000</td>\n",
       "      <td>3.000000</td>\n",
       "    </tr>\n",
       "    <tr>\n",
       "      <th>50%</th>\n",
       "      <td>1377.000000</td>\n",
       "      <td>2014.000000</td>\n",
       "      <td>3.250000</td>\n",
       "    </tr>\n",
       "    <tr>\n",
       "      <th>75%</th>\n",
       "      <td>1948.000000</td>\n",
       "      <td>2017.000000</td>\n",
       "      <td>3.500000</td>\n",
       "    </tr>\n",
       "    <tr>\n",
       "      <th>max</th>\n",
       "      <td>2542.000000</td>\n",
       "      <td>2021.000000</td>\n",
       "      <td>4.000000</td>\n",
       "    </tr>\n",
       "  </tbody>\n",
       "</table>\n",
       "</div>"
      ],
      "text/plain": [
       "               REF  Review Date       Rating\n",
       "count  2362.000000  2362.000000  2362.000000\n",
       "mean   1343.279848  2013.894581     3.187384\n",
       "std     709.468334     3.667615     0.450292\n",
       "min       5.000000  2006.000000     1.000000\n",
       "25%     754.000000  2011.000000     3.000000\n",
       "50%    1377.000000  2014.000000     3.250000\n",
       "75%    1948.000000  2017.000000     3.500000\n",
       "max    2542.000000  2021.000000     4.000000"
      ]
     },
     "execution_count": 7,
     "metadata": {},
     "output_type": "execute_result"
    }
   ],
   "source": [
    "#Summary of statistics\n",
    "df.describe()"
   ]
  },
  {
   "cell_type": "markdown",
   "metadata": {},
   "source": [
    "* No discernible outliers present in 'Ratings'.\n",
    "* Most values in 'Rating' falls between 3.00 and 4.00."
   ]
  },
  {
   "cell_type": "code",
   "execution_count": 8,
   "metadata": {},
   "outputs": [
    {
     "data": {
      "text/plain": [
       "0"
      ]
     },
     "execution_count": 8,
     "metadata": {},
     "output_type": "execute_result"
    }
   ],
   "source": [
    "#Detemine if duplicate rows in data present\n",
    "sum(df.duplicated())"
   ]
  },
  {
   "cell_type": "code",
   "execution_count": 9,
   "metadata": {},
   "outputs": [
    {
     "name": "stdout",
     "output_type": "stream",
     "text": [
      "Number of unique values in REF: 587\n",
      "Number of unique values in Company (Manufacturer): 552\n",
      "Number of unique values in Company Location: 67\n",
      "Number of unique values in Review Date: 16\n",
      "Number of unique values in Country of Bean Origin: 61\n",
      "Number of unique values in Specific Bean Origin or Bar Name: 1475\n",
      "Number of unique values in Cocoa Percent: 46\n",
      "Number of unique values in Ingredients: 21\n",
      "Number of unique values in Most Memorable Characteristics: 2320\n",
      "Number of unique values in Rating: 13\n"
     ]
    }
   ],
   "source": [
    "#Unqiue values for each varaibles\n",
    "for col in df[['REF', 'Company (Manufacturer)', 'Company Location', 'Review Date',\n",
    "       'Country of Bean Origin', 'Specific Bean Origin or Bar Name',\n",
    "       'Cocoa Percent', 'Ingredients', 'Most Memorable Characteristics',\n",
    "       'Rating']]:\n",
    "    print('Number of unique values in ' + str(col) +': ' + str(df[col].nunique()))"
   ]
  },
  {
   "cell_type": "markdown",
   "metadata": {},
   "source": [
    "## Dependent Variable"
   ]
  },
  {
   "cell_type": "code",
   "execution_count": 10,
   "metadata": {},
   "outputs": [
    {
     "data": {
      "text/plain": [
       "[1.0, 1.5, 1.75, 2.0, 2.25, 2.5, 2.6, 2.75, 3.0, 3.25, 3.5, 3.75, 4.0]"
      ]
     },
     "execution_count": 10,
     "metadata": {},
     "output_type": "execute_result"
    }
   ],
   "source": [
    "#Determine unique values in 'Rating'\n",
    "unique_rating = df['Rating'].unique().tolist()\n",
    "sorted(unique_rating)"
   ]
  },
  {
   "cell_type": "code",
   "execution_count": 11,
   "metadata": {
    "scrolled": true
   },
   "outputs": [
    {
     "data": {
      "image/png": "[encoded data removed]",
      "text/plain": [
       "<Figure size 432x288 with 1 Axes>"
      ]
     },
     "metadata": {
      "needs_background": "light"
     },
     "output_type": "display_data"
    }
   ],
   "source": [
    "#Examin distribution of 'Rating'\n",
    "rating = df.Rating\n",
    "\n",
    "rating.hist(alpha=0.6, bins=15, color='firebrick',label = 'Score')\n",
    "plt.title('Rating Distribution')\n",
    "plt.locator_params(axis=\"x\", nbins=20)\n",
    "plt.locator_params(axis=\"y\", nbins=20)\n",
    "plt.axvline(rating.mean(), color='k', label='Median')\n",
    "plt.axvline(rating.median(), color='blue',linestyle='dashed', label='Median')\n",
    "plt.xlabel('Rating')\n",
    "plt.ylabel('Count')\n",
    "plt.legend();"
   ]
  },
  {
   "cell_type": "markdown",
   "metadata": {},
   "source": [
    "The distribution by rating scales is skewed left, which shows that most chocolate bars are rated more highly than poorly. Also, the distribution shows that a majority of the chocolate bars are rated roughly between 3.00 and 4.00."
   ]
  },
  {
   "cell_type": "markdown",
   "metadata": {},
   "source": [
    "## Independent Variables"
   ]
  },
  {
   "cell_type": "code",
   "execution_count": 12,
   "metadata": {},
   "outputs": [
    {
     "data": {
      "text/plain": [
       "[5,\n",
       " 15,\n",
       " 24,\n",
       " 32,\n",
       " 40,\n",
       " 48,\n",
       " 56,\n",
       " 63,\n",
       " 75,\n",
       " 81,\n",
       " 87,\n",
       " 93,\n",
       " 99,\n",
       " 105,\n",
       " 111,\n",
       " 117,\n",
       " 123,\n",
       " 129,\n",
       " 135,\n",
       " 141]"
      ]
     },
     "execution_count": 12,
     "metadata": {},
     "output_type": "execute_result"
    }
   ],
   "source": [
    "#Determine unique values in 'REF'\n",
    "unique_ref = df['REF'].unique().tolist()\n",
    "sorted(unique_ref)[:20]"
   ]
  },
  {
   "cell_type": "code",
   "execution_count": 13,
   "metadata": {},
   "outputs": [
    {
     "data": {
      "text/plain": [
       "['5150',\n",
       " 'A. Morin',\n",
       " 'AMMA',\n",
       " 'Acalli',\n",
       " 'Adi aka Fijiana (Easy In Ltd)',\n",
       " 'Aelan',\n",
       " 'Aequare (Gianduja)',\n",
       " 'Ah Cacao',\n",
       " \"Akesson's (Pralus)\",\n",
       " 'Alain Ducasse',\n",
       " 'Alexandre',\n",
       " 'Altus aka Cao Artisan',\n",
       " 'Amano',\n",
       " 'Amatller (Simon Coll)',\n",
       " 'Amazing Cacao',\n",
       " 'Amazona',\n",
       " 'Ambrosia',\n",
       " 'Amedei',\n",
       " 'Anahata',\n",
       " 'Animas']"
      ]
     },
     "execution_count": 13,
     "metadata": {},
     "output_type": "execute_result"
    }
   ],
   "source": [
    "#Determine unique values in 'Company (Manufacturer)'\n",
    "unique_company = df['Company (Manufacturer)'].unique().tolist()\n",
    "sorted(unique_company)[:20]"
   ]
  },
  {
   "cell_type": "code",
   "execution_count": 14,
   "metadata": {},
   "outputs": [
    {
     "data": {
      "text/plain": [
       "['Amsterdam',\n",
       " 'Argentina',\n",
       " 'Australia',\n",
       " 'Austria',\n",
       " 'Belgium',\n",
       " 'Bolivia',\n",
       " 'Brazil',\n",
       " 'Canada',\n",
       " 'Chile',\n",
       " 'Colombia',\n",
       " 'Costa Rica',\n",
       " 'Czech Republic',\n",
       " 'Denmark',\n",
       " 'Dominican Republic',\n",
       " 'Ecuador',\n",
       " 'El Salvador',\n",
       " 'Fiji',\n",
       " 'Finland',\n",
       " 'France',\n",
       " 'Germany']"
      ]
     },
     "execution_count": 14,
     "metadata": {},
     "output_type": "execute_result"
    }
   ],
   "source": [
    "#Determine unique values in 'Company Location'\n",
    "unique_company_location = df['Company Location'].unique().tolist()\n",
    "sorted(unique_company_location)[:20]"
   ]
  },
  {
   "cell_type": "code",
   "execution_count": 15,
   "metadata": {},
   "outputs": [
    {
     "data": {
      "text/plain": [
       "[2006,\n",
       " 2007,\n",
       " 2008,\n",
       " 2009,\n",
       " 2010,\n",
       " 2011,\n",
       " 2012,\n",
       " 2013,\n",
       " 2014,\n",
       " 2015,\n",
       " 2016,\n",
       " 2017,\n",
       " 2018,\n",
       " 2019,\n",
       " 2020,\n",
       " 2021]"
      ]
     },
     "execution_count": 15,
     "metadata": {},
     "output_type": "execute_result"
    }
   ],
   "source": [
    "#Determine unique values in 'Review Date'\n",
    "unique_review_date = df['Review Date'].unique().tolist()\n",
    "sorted(unique_review_date)[:20]"
   ]
  },
  {
   "cell_type": "code",
   "execution_count": 16,
   "metadata": {},
   "outputs": [
    {
     "data": {
      "text/plain": [
       "['Australia',\n",
       " 'Belize',\n",
       " 'Blend',\n",
       " 'Bolivia',\n",
       " 'Brazil',\n",
       " 'Burma',\n",
       " 'Cameroon',\n",
       " 'Colombia',\n",
       " 'Congo',\n",
       " 'Costa Rica',\n",
       " 'Cuba',\n",
       " 'DR Congo',\n",
       " 'Dominican Republic',\n",
       " 'Ecuador',\n",
       " 'El Salvador',\n",
       " 'Fiji',\n",
       " 'Gabon',\n",
       " 'Ghana',\n",
       " 'Grenada',\n",
       " 'Guatemala']"
      ]
     },
     "execution_count": 16,
     "metadata": {},
     "output_type": "execute_result"
    }
   ],
   "source": [
    "#Determine unique values in 'Country of Bean Origin'\n",
    "unique_country = df['Country of Bean Origin'].unique().tolist()\n",
    "sorted(unique_country)[:20]"
   ]
  },
  {
   "cell_type": "code",
   "execution_count": 17,
   "metadata": {},
   "outputs": [
    {
     "data": {
      "text/plain": [
       "['\"Peace of Wild Things\"',\n",
       " '\"heirloom\", Arriba Nacional',\n",
       " '100 percent',\n",
       " '2009 Hapa Nibby, Dominican Rep., Bali',\n",
       " 'A case of the Xerces Blues, triple roast',\n",
       " 'ABOCFA Coop',\n",
       " 'APROCAFA, Acandi',\n",
       " 'Abinao, West Africa',\n",
       " 'Absolu',\n",
       " 'Abstract S. w/ Jamaica nibs,batch abs60323.0',\n",
       " 'Acarigua, w/ nibs',\n",
       " 'Acopagro',\n",
       " 'Acul du Nard',\n",
       " 'Acul-du-Nord, 2015',\n",
       " 'Africa',\n",
       " 'Africa meets Latina',\n",
       " 'Africa, West Africa',\n",
       " 'AgroCriso Plantation',\n",
       " 'Agua Fria; Sucre region, H. La Trinidad',\n",
       " 'Agua Grande']"
      ]
     },
     "execution_count": 17,
     "metadata": {},
     "output_type": "execute_result"
    }
   ],
   "source": [
    "#Determine unique values in 'Specific Bean Origin or Bar Name'\n",
    "unique_specific = df['Specific Bean Origin or Bar Name'].unique().tolist()\n",
    "sorted(unique_specific)[:20]"
   ]
  },
  {
   "cell_type": "code",
   "execution_count": 18,
   "metadata": {},
   "outputs": [
    {
     "data": {
      "text/plain": [
       "['100%',\n",
       " '42%',\n",
       " '46%',\n",
       " '50%',\n",
       " '53%',\n",
       " '55%',\n",
       " '56%',\n",
       " '57%',\n",
       " '58%',\n",
       " '60%',\n",
       " '60.5%',\n",
       " '61%',\n",
       " '62%',\n",
       " '63%',\n",
       " '64%',\n",
       " '65%',\n",
       " '66%',\n",
       " '67%',\n",
       " '68%',\n",
       " '69%']"
      ]
     },
     "execution_count": 18,
     "metadata": {},
     "output_type": "execute_result"
    }
   ],
   "source": [
    "#Determine unique values in 'Cocoa Percent'\n",
    "unique_percent = df['Cocoa Percent'].unique().tolist()\n",
    "sorted(unique_percent)[:20]"
   ]
  },
  {
   "cell_type": "code",
   "execution_count": 19,
   "metadata": {},
   "outputs": [
    {
     "data": {
      "text/plain": [
       "['1- B',\n",
       " '2- B,C',\n",
       " '2- B,S',\n",
       " '2- B,S*',\n",
       " '3- B,S*,C',\n",
       " '3- B,S*,Sa',\n",
       " '3- B,S,C',\n",
       " '3- B,S,L',\n",
       " '3- B,S,V',\n",
       " '4- B,S*,C,L',\n",
       " '4- B,S*,C,Sa',\n",
       " '4- B,S*,C,V',\n",
       " '4- B,S*,V,L',\n",
       " '4- B,S,C,L',\n",
       " '4- B,S,C,Sa',\n",
       " '4- B,S,C,V',\n",
       " '4- B,S,V,L',\n",
       " '5- B,S,C,L,Sa',\n",
       " '5- B,S,C,V,L',\n",
       " '5-B,S,C,V,Sa']"
      ]
     },
     "execution_count": 19,
     "metadata": {},
     "output_type": "execute_result"
    }
   ],
   "source": [
    "#Determine unique values in 'Ingredients'\n",
    "unique_ingredients = df['Ingredients'].dropna().unique().tolist()\n",
    "sorted(unique_ingredients)[:20]"
   ]
  },
  {
   "cell_type": "code",
   "execution_count": 20,
   "metadata": {},
   "outputs": [
    {
     "data": {
      "text/plain": [
       "['Easter candy, burnt',\n",
       " 'Fruity, Roasty',\n",
       " 'XL nibs, sour, cardboard',\n",
       " 'accesible, simple cocoa note',\n",
       " 'accessible, sweet, sandy',\n",
       " 'acidic, astringent, spicy',\n",
       " 'acidic, astringent, unpleasant',\n",
       " 'acidic, bitter, dry',\n",
       " 'acidic, cocoa, dried fruit',\n",
       " 'acidic, mildly burnt, metallic',\n",
       " 'acidic, pomegrant, brownie',\n",
       " 'acidic, sour, cocoa',\n",
       " 'acidic, sweet, cucumber',\n",
       " 'acidic, undefined, brownie, off',\n",
       " 'alluring aroma, powdery,nutty',\n",
       " 'aluminum, mild coffee, roasty',\n",
       " 'anise, spicy, earthy',\n",
       " 'appealing smoke, woody',\n",
       " 'apple, mild cherry',\n",
       " 'ashey, woody, bright red']"
      ]
     },
     "execution_count": 20,
     "metadata": {},
     "output_type": "execute_result"
    }
   ],
   "source": [
    "#Determine unique values in 'Most Memorable Characteristics'\n",
    "unique_memorable = df['Most Memorable Characteristics'].unique().tolist()\n",
    "sorted(unique_memorable)[:20]"
   ]
  },
  {
   "cell_type": "markdown",
   "metadata": {},
   "source": [
    "# Findings of Initial Observations\n",
    "***\n",
    "The focus of this analysis is to determine which variables of a dark chocolate bar result in a high-quality rated dark chocolate bar.\n",
    "\n",
    "### Overal Understanding of Dataset\n",
    "* There are 2362 observations (rows) and 10 variables (columns) in the dataset.\n",
    "* Three types of datatypes are present in the dataset; integer, object, and float.\n",
    "* The only column with missing values is 'Ingredients'. The column is missing 88 out of 2362 values.\n",
    "* There are no duplicate rows in the dataset.\n",
    "* All the columns have a range of 13 to 1475 unique values (none of which can be used as a unique identifier)\n",
    "* For this analysis, the independent variable and the focus of the analysis is 'Rating' \n",
    "* The remaining variables show a significant need for cleaning and transformation.\n",
    "\n",
    "\n",
    "### Understanding of Each Variable in Dataset\n",
    "#### *'REF', 'Company (Manufacturer)', 'Company Location', and 'Review Date'*\n",
    "The variables 'REF', 'Company (Manufacturer)', 'Company Location', and 'Review Date' are not necessary for this analysis since those variables do not relate directly to the characteristic of the chocolate bar itself. Rather, these variables relate to either the company producing the chocolate bar or the review itself. \n",
    "* The variables 'Company (Manufacturer)', 'Company Location' are not necessary because the analysis is not trying to discover which companies produce high-quality chocolate bars. The focus is entirely on the individual chocolate bar ratings, regardless of which company produced them.\n",
    "* The variables 'REF' and 'Review Date' relate to when the review of the chocolate bar was made and have no relation to its quality rating. Therefore, these variables will be removed.\n",
    "\n",
    "#### *'Rating'*\n",
    "'Rating' was the dependent variable of this analysis since the value was the quality level of each dark chocolate bar.\n",
    "* No discernible outliers present in 'Rating'.\n",
    "* Most values in 'Rating' falls between 3.00 and 4.00.\n",
    "\n",
    "#### *'Country of Bean Origin'*\n",
    "This column seems clean. However, to confirm the accuracy of the data I will compare the values in this dataset against a repository of all the countries (and possibly territories) in the world. This will ensure that my data is accurate and fix any errors present in the data.  \n",
    "\n",
    "#### *'Specific Bean Origin or Bar Name'*\n",
    "The column 'Specific Bean Origin or Bar Name' has multiple values represented in one column. It seems to include the specific bean origin (maybe region or city), the chocolate bar's name, the batch number, and more. However, it is not certain that breaking this column into multiple columns based on the different kinds of values will produce enough data to better the analysis. To determine if this will help the analysis, I will compare the possible values to a list of locations and similar repositories. After removing values by country, city, batch #, etc. if there is still over half the data undiscernible I will drop the column. If not, then I will place the data into the new columns.\n",
    "\n",
    "#### *'Cocoa Percent'*\n",
    "The column 'Cocoa Percent' is better represented as a float datatype to allow more extensive calculations for the analysis.\n",
    "\n",
    "#### *'Ingredients'*\n",
    "'Ingredients' represents two values; the number of ingredients and what type of ingredients were used. This column will need to be separated into two columns. The first column for the number of ingredients. The second and the other for type of ingredients, to better utilize the information in this column.\n",
    "\n",
    "#### *'Most Memorable Characteristics'*\n",
    "'Most Memorable Characteristics' shows the most memorable characteristics of a dark chocolate bar in the form of a string (object in data frames) datatype. There seems to be double spacing, inconsistent use of characteristics naming, spelling errors, and more that needs to be cleaned. This will establish consistency for characteristics and produce better insights."
   ]
  }
 ],
 "metadata": {
  "kernelspec": {
   "display_name": "Python 3",
   "language": "python",
   "name": "python3"
  },
  "language_info": {
   "codemirror_mode": {
    "name": "ipython",
    "version": 3
   },
   "file_extension": ".py",
   "mimetype": "text/x-python",
   "name": "python",
   "nbconvert_exporter": "python",
   "pygments_lexer": "ipython3",
   "version": "3.8.5"
  }
 },
 "nbformat": 4,
 "nbformat_minor": 4
}
